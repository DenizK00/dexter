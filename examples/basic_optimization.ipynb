{
 "cells": [
  {
   "cell_type": "code",
   "execution_count": 1,
   "id": "cb3237f2",
   "metadata": {},
   "outputs": [
    {
     "name": "stderr",
     "output_type": "stream",
     "text": [
      "Exception in thread Thread-4 (_start_kernel):\n",
      "Traceback (most recent call last):\n",
      "  File \"/opt/anaconda3/lib/python3.11/threading.py\", line 1045, in _bootstrap_inner\n",
      "    self.run()\n",
      "  File \"/Users/deniz/Desktop/Programming/Packages/dexter/venv/lib/python3.11/site-packages/ipykernel/ipkernel.py\", line 772, in run_closure\n",
      "    _threading_Thread_run(self)\n",
      "  File \"/opt/anaconda3/lib/python3.11/threading.py\", line 982, in run\n",
      "    self._target(*self._args, **self._kwargs)\n",
      "  File \"/Users/deniz/Desktop/Programming/Packages/dexter/src/dexter/board/main.py\", line 27, in _start_kernel\n",
      "    self.kernel_app.initialize(['python'])\n",
      "  File \"/Users/deniz/Desktop/Programming/Packages/dexter/venv/lib/python3.11/site-packages/traitlets/config/application.py\", line 118, in inner\n",
      "    return method(app, *args, **kwargs)\n",
      "           ^^^^^^^^^^^^^^^^^^^^^^^^^^^^\n",
      "  File \"/Users/deniz/Desktop/Programming/Packages/dexter/venv/lib/python3.11/site-packages/ipykernel/kernelapp.py\", line 692, in initialize\n",
      "    self.init_sockets()\n",
      "  File \"/Users/deniz/Desktop/Programming/Packages/dexter/venv/lib/python3.11/site-packages/ipykernel/kernelapp.py\", line 325, in init_sockets\n",
      "    assert self.context is None, \"init_sockets cannot be called twice!\"\n",
      "           ^^^^^^^^^^^^^^^^^^^^\n",
      "AssertionError: init_sockets cannot be called twice!\n"
     ]
    }
   ],
   "source": [
    "import dexter"
   ]
  },
  {
   "cell_type": "code",
   "execution_count": null,
   "id": "535654be",
   "metadata": {},
   "outputs": [],
   "source": []
  }
 ],
 "metadata": {
  "kernelspec": {
   "display_name": "venv",
   "language": "python",
   "name": "python3"
  },
  "language_info": {
   "codemirror_mode": {
    "name": "ipython",
    "version": 3
   },
   "file_extension": ".py",
   "mimetype": "text/x-python",
   "name": "python",
   "nbconvert_exporter": "python",
   "pygments_lexer": "ipython3",
   "version": "3.11.7"
  }
 },
 "nbformat": 4,
 "nbformat_minor": 5
}
