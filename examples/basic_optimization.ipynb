{
 "cells": [
  {
   "cell_type": "code",
   "execution_count": 1,
   "id": "cb3237f2",
   "metadata": {},
   "outputs": [],
   "source": [
    "# Instead of: import dexter\n",
    "# Use:\n",
    "import sys\n",
    "sys.path.append('src')\n",
    "\n",
    "from dexter.optimization import Problem"
   ]
  },
  {
   "cell_type": "code",
   "execution_count": 2,
   "id": "535654be",
   "metadata": {},
   "outputs": [],
   "source": [
    "from dexter.optimization import Problem"
   ]
  },
  {
   "cell_type": "code",
   "execution_count": null,
   "id": "8757ccc6",
   "metadata": {},
   "outputs": [],
   "source": [
    "p1 = Problem(\"3*x + 2*y\", [\"3*x + 2*y = 10\", \"2*x - 2*y <= 30\"])"
   ]
  },
  {
   "cell_type": "code",
   "execution_count": 4,
   "id": "4d091f32",
   "metadata": {},
   "outputs": [
    {
     "data": {
      "text/plain": [
       "[Equation('3*x + 2*y >= 10', name=constraint 0),\n",
       " Equation('2*x - 2*y <= 30', name=constraint 1)]"
      ]
     },
     "execution_count": 4,
     "metadata": {},
     "output_type": "execute_result"
    }
   ],
   "source": [
    "p1.constraints"
   ]
  },
  {
   "cell_type": "code",
   "execution_count": 5,
   "id": "54e309d7",
   "metadata": {},
   "outputs": [
    {
     "data": {
      "text/plain": [
       "array([[3, 2],\n",
       "       [2, -2]], dtype=object)"
      ]
     },
     "execution_count": 5,
     "metadata": {},
     "output_type": "execute_result"
    }
   ],
   "source": [
    "p1.constraint_matrix"
   ]
  },
  {
   "cell_type": "code",
   "execution_count": 6,
   "id": "53ced6ad",
   "metadata": {},
   "outputs": [
    {
     "name": "stdout",
     "output_type": "stream",
     "text": [
      "--------- OPTIMAL VALUES ---------\n",
      "x: 3.33333333333333\n",
      "y: 0.0\n",
      "--------------------------------\n"
     ]
    },
    {
     "data": {
      "text/plain": [
       "<dexter.optimization.solution.Solution at 0x17d90e410>"
      ]
     },
     "execution_count": 6,
     "metadata": {},
     "output_type": "execute_result"
    }
   ],
   "source": [
    "p1.solve()"
   ]
  },
  {
   "cell_type": "code",
   "execution_count": null,
   "id": "19ab8840",
   "metadata": {},
   "outputs": [],
   "source": []
  },
  {
   "cell_type": "code",
   "execution_count": null,
   "id": "395382bc",
   "metadata": {},
   "outputs": [],
   "source": []
  }
 ],
 "metadata": {
  "kernelspec": {
   "display_name": "venv",
   "language": "python",
   "name": "python3"
  },
  "language_info": {
   "codemirror_mode": {
    "name": "ipython",
    "version": 3
   },
   "file_extension": ".py",
   "mimetype": "text/x-python",
   "name": "python",
   "nbconvert_exporter": "python",
   "pygments_lexer": "ipython3",
   "version": "3.11.7"
  }
 },
 "nbformat": 4,
 "nbformat_minor": 5
}
