{
 "cells": [
  {
   "cell_type": "code",
   "execution_count": 1,
   "id": "535654be",
   "metadata": {},
   "outputs": [],
   "source": [
    "# Import directly from source code\n",
    "import sys\n",
    "import os\n",
    "sys.path.insert(0, os.path.join(os.getcwd(), 'src'))\n",
    "\n",
    "# Or install dexter from source\n",
    "from dexter.optimization import Problem"
   ]
  },
  {
   "cell_type": "code",
   "execution_count": 2,
   "id": "8757ccc6",
   "metadata": {},
   "outputs": [],
   "source": [
    "p1 = Problem(\"max 3*x + 2*y + 4*z\", [\"3*x + 2*y >= 2\", \"2*x - y <= 10\", \"1*z + 2*y <= 3\"])"
   ]
  },
  {
   "cell_type": "code",
   "execution_count": 3,
   "id": "4d091f32",
   "metadata": {},
   "outputs": [
    {
     "data": {
      "text/plain": [
       "[Equation('3*x + 2*y >= 2', name=constraint 0),\n",
       " Equation('2*x - y <= 10', name=constraint 1),\n",
       " Equation('2*y + 1*z <= 3', name=constraint 2)]"
      ]
     },
     "execution_count": 3,
     "metadata": {},
     "output_type": "execute_result"
    }
   ],
   "source": [
    "p1.constraints"
   ]
  },
  {
   "cell_type": "code",
   "execution_count": 4,
   "id": "54e309d7",
   "metadata": {},
   "outputs": [
    {
     "data": {
      "text/plain": [
       "array([[3, 2, 0.0],\n",
       "       [2, -1, 0.0],\n",
       "       [0.0, 2, 1]], dtype=object)"
      ]
     },
     "execution_count": 4,
     "metadata": {},
     "output_type": "execute_result"
    }
   ],
   "source": [
    "p1.constraint_matrix"
   ]
  },
  {
   "cell_type": "code",
   "execution_count": 5,
   "id": "53ced6ad",
   "metadata": {},
   "outputs": [
    {
     "name": "stdout",
     "output_type": "stream",
     "text": [
      "--------- OPTIMAL VALUES ---------\n",
      "x: 5.0\n",
      "y: 0.0\n",
      "z: 3.0\n",
      "--------------------------------\n"
     ]
    },
    {
     "data": {
      "text/plain": [
       "<dexter.optimization.solution.Solution at 0x104784e50>"
      ]
     },
     "execution_count": 5,
     "metadata": {},
     "output_type": "execute_result"
    }
   ],
   "source": [
    "p1.solve()"
   ]
  },
  {
   "cell_type": "code",
   "execution_count": 6,
   "id": "e5360475",
   "metadata": {},
   "outputs": [
    {
     "name": "stdout",
     "output_type": "stream",
     "text": [
      "--------- OPTIMAL VALUES ---------\n",
      "x: 10.0\n",
      "y: 0.0\n",
      "--------------------------------\n"
     ]
    }
   ],
   "source": [
    "from dexter.optimization import Problem\n",
    "\n",
    "# Define and solve optimization problem\n",
    "problem = Problem(\"min 2*x + 3*y\", [\"x + y >= 10\", \"x + y>= 0\"])\n",
    "solution = problem.solve()"
   ]
  },
  {
   "cell_type": "code",
   "execution_count": null,
   "id": "8b271efa",
   "metadata": {},
   "outputs": [],
   "source": []
  },
  {
   "cell_type": "code",
   "execution_count": null,
   "id": "1c7bbcd6",
   "metadata": {},
   "outputs": [],
   "source": []
  }
 ],
 "metadata": {
  "kernelspec": {
   "display_name": "venv",
   "language": "python",
   "name": "python3"
  },
  "language_info": {
   "codemirror_mode": {
    "name": "ipython",
    "version": 3
   },
   "file_extension": ".py",
   "mimetype": "text/x-python",
   "name": "python",
   "nbconvert_exporter": "python",
   "pygments_lexer": "ipython3",
   "version": "3.11.7"
  }
 },
 "nbformat": 4,
 "nbformat_minor": 5
}
