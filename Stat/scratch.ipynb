{
 "cells": [
  {
   "cell_type": "code",
   "execution_count": 49,
   "metadata": {},
   "outputs": [],
   "source": [
    "from Distribution import *\n",
    "\n",
    "class RV:\n",
    "    def __init__(self, distr:\"Distribution\"):\n",
    "        self.distribution = distr\n",
    "\n",
    "    def realize(self):\n",
    "        return self.distribution.dist.rvs()\n",
    "\n",
    "    "
   ]
  },
  {
   "cell_type": "code",
   "execution_count": 50,
   "metadata": {},
   "outputs": [],
   "source": [
    "norm = Normal(0, 1)"
   ]
  },
  {
   "cell_type": "code",
   "execution_count": 51,
   "metadata": {},
   "outputs": [],
   "source": [
    "x = RV(distr=Normal(0, 1))"
   ]
  },
  {
   "cell_type": "code",
   "execution_count": 52,
   "metadata": {},
   "outputs": [
    {
     "data": {
      "text/plain": [
       "-0.6439974421110816"
      ]
     },
     "execution_count": 52,
     "metadata": {},
     "output_type": "execute_result"
    }
   ],
   "source": [
    "x.realize()"
   ]
  },
  {
   "cell_type": "code",
   "execution_count": 53,
   "metadata": {},
   "outputs": [
    {
     "name": "stdout",
     "output_type": "stream",
     "text": [
      "<__main__.Binomial object at 0x11d5a0590>\n"
     ]
    }
   ],
   "source": [
    "import numpy as np\n",
    "import math\n",
    "from RV import *\n",
    "from Sample import *\n",
    "import scipy.stats as sci\n",
    "\n",
    "class Distribution:\n",
    "    \n",
    "    def plot_pdf(self):\n",
    "        pass\n",
    "\n",
    "    def plot_cdf(self):\n",
    "        pass\n",
    "\n",
    "\n",
    "class Normal(Distribution):\n",
    "    def __init__(self, mean:float, var:float):\n",
    "        self.mean = mean\n",
    "        self.var = var\n",
    "        self.std = np.sqrt(self.var) #Add Handling negative variance\n",
    "        self.dist = sci.norm(loc=self.mean, scale=self.std)\n",
    "        self.support = (-np.inf, np.inf)\n",
    "\n",
    "    def __str__(self):\n",
    "        return f\"N(mean={self.mean}, variance={self.var})\"\n",
    "    \n",
    "    def pdf(self, x):\n",
    "        return self.dist.pdf(x)\n",
    "    \n",
    "    def cdf(self, x):\n",
    "        return self.dist.cdf(x)\n",
    "    \n",
    "    def mgf(self, t):\n",
    "        return self.dist.mgf(t)\n",
    "    \n",
    "    def draw(self, n=1):\n",
    "        if n==1:\n",
    "            return RV(distr=self)\n",
    "        else:\n",
    "            return Sample([RV(distr=self) for i in range(n)])\n",
    "\n",
    "\n",
    "class Uniform(Distribution):\n",
    "    def __init__(self, a, b):\n",
    "        self.a, self.b = a, b\n",
    "        self.E = (self.a+self.b)/2\n",
    "        self.dist = sci.uniform(loc=a, scale=b-a)\n",
    "    \n",
    "    def pdf(self, x):\n",
    "        return self.dist.pdf(x)\n",
    "    \n",
    "    def cdf(self, x):\n",
    "        return self.dist.cdf(x)\n",
    "    \n",
    "\n",
    "class Binomial(Distribution):\n",
    "    def __init__(self, n:int, p:float):\n",
    "        self.n = n\n",
    "        self.p = p\n",
    "        self.dist = sci.binom(n=self.n, p=self.p)\n",
    "\n",
    "    def pmf(self, x):\n",
    "        return self.dist.pmf(x)\n",
    "    \n",
    "    def cdf(self, x):\n",
    "        return self.dist.cdf(x)\n",
    "    \n",
    "\n",
    "class Poisson(Distribution):\n",
    "    def __init__(self, mu):\n",
    "        pass\n",
    "\n",
    "    def pmf(self, x):\n",
    "        return self.dist.pmf(x)\n",
    "    \n",
    "    def cdf(self, x):\n",
    "        return self.dist.cdf(x)\n",
    "\n",
    "\n",
    "class Exponential(Distribution):\n",
    "    def __init__(self, intensity: float):\n",
    "        self.intensity = intensity\n",
    "        self.dist = sci.expon(scale=1/intensity)\n",
    "\n",
    "    def mgf(self, t):\n",
    "        return self.intensity / (self.intensity - t)\n",
    "\n",
    "\n",
    "class Gamma(Distribution):\n",
    "    def __init__(self, theta, r):\n",
    "        pass\n",
    "\n",
    "Distr = Distribution\n",
    "N = Normal\n",
    "\n",
    "if __name__ == \"__main__\":\n",
    "    X = RV(distr=Binomial(n=20, p=0.1))\n",
    "    print(X.distribution)\n"
   ]
  },
  {
   "cell_type": "code",
   "execution_count": 54,
   "metadata": {},
   "outputs": [],
   "source": [
    "import numpy as np\n",
    "from RV import *\n",
    "\n",
    "class Sample:\n",
    "    def __init__(self, rvs:list[RV]):\n",
    "        self.rvs = rvs\n",
    "\n",
    "    def observe(self):\n",
    "        return np.array([rv.realize() for rv in self.rvs])\n",
    "    \n",
    "    def __str__(self):\n",
    "        return \n"
   ]
  },
  {
   "cell_type": "code",
   "execution_count": 55,
   "metadata": {},
   "outputs": [],
   "source": [
    "normal_dist = Normal(0, 1)\n",
    "s1 = normal_dist.draw(40)\n"
   ]
  },
  {
   "cell_type": "code",
   "execution_count": 56,
   "metadata": {},
   "outputs": [
    {
     "name": "stdout",
     "output_type": "stream",
     "text": [
      "Unexpected exception formatting exception. Falling back to standard exception\n"
     ]
    },
    {
     "name": "stderr",
     "output_type": "stream",
     "text": [
      "Traceback (most recent call last):\n",
      "  File \"/opt/anaconda3/envs/dexter/lib/python3.12/site-packages/IPython/core/interactiveshell.py\", line 3553, in run_code\n",
      "    exec(code_obj, self.user_global_ns, self.user_ns)\n",
      "  File \"/var/folders/28/kdd3c0m500l1pjc158c5hgww0000gn/T/ipykernel_3772/2152302921.py\", line 2, in <module>\n",
      "    a.realize()\n",
      "  File \"/Users/deniz/Desktop/Programming/Packages/dexter/Stat/RV.py\", line 8, in realize\n",
      "    return self.distribution.dist.rvs()\n",
      "           ^^^^^^^^^^\n",
      "AttributeError: 'RV' object has no attribute 'distr'\n",
      "\n",
      "During handling of the above exception, another exception occurred:\n",
      "\n",
      "Traceback (most recent call last):\n",
      "  File \"/opt/anaconda3/envs/dexter/lib/python3.12/site-packages/IPython/core/interactiveshell.py\", line 2144, in showtraceback\n",
      "    stb = self.InteractiveTB.structured_traceback(\n",
      "          ^^^^^^^^^^^^^^^^^^^^^^^^^^^^^^^^^^^^^^^^\n",
      "  File \"/opt/anaconda3/envs/dexter/lib/python3.12/site-packages/IPython/core/ultratb.py\", line 1435, in structured_traceback\n",
      "    return FormattedTB.structured_traceback(\n",
      "           ^^^^^^^^^^^^^^^^^^^^^^^^^^^^^^^^^\n",
      "  File \"/opt/anaconda3/envs/dexter/lib/python3.12/site-packages/IPython/core/ultratb.py\", line 1326, in structured_traceback\n",
      "    return VerboseTB.structured_traceback(\n",
      "           ^^^^^^^^^^^^^^^^^^^^^^^^^^^^^^^\n",
      "  File \"/opt/anaconda3/envs/dexter/lib/python3.12/site-packages/IPython/core/ultratb.py\", line 1173, in structured_traceback\n",
      "    formatted_exception = self.format_exception_as_a_whole(etype, evalue, etb, number_of_lines_of_context,\n",
      "                          ^^^^^^^^^^^^^^^^^^^^^^^^^^^^^^^^^^^^^^^^^^^^^^^^^^^^^^^^^^^^^^^^^^^^^^^^^^^^^^^^\n",
      "  File \"/opt/anaconda3/envs/dexter/lib/python3.12/site-packages/IPython/core/ultratb.py\", line 1088, in format_exception_as_a_whole\n",
      "    frames.append(self.format_record(record))\n",
      "                  ^^^^^^^^^^^^^^^^^^^^^^^^^^\n",
      "  File \"/opt/anaconda3/envs/dexter/lib/python3.12/site-packages/IPython/core/ultratb.py\", line 970, in format_record\n",
      "    frame_info.lines, Colors, self.has_colors, lvals\n",
      "    ^^^^^^^^^^^^^^^^\n",
      "  File \"/opt/anaconda3/envs/dexter/lib/python3.12/site-packages/IPython/core/ultratb.py\", line 792, in lines\n",
      "    return self._sd.lines\n",
      "           ^^^^^^^^^^^^^^\n",
      "  File \"/opt/anaconda3/envs/dexter/lib/python3.12/site-packages/stack_data/utils.py\", line 145, in cached_property_wrapper\n",
      "    value = obj.__dict__[self.func.__name__] = self.func(obj)\n",
      "                                               ^^^^^^^^^^^^^^\n",
      "  File \"/opt/anaconda3/envs/dexter/lib/python3.12/site-packages/stack_data/core.py\", line 698, in lines\n",
      "    pieces = self.included_pieces\n",
      "             ^^^^^^^^^^^^^^^^^^^^\n",
      "  File \"/opt/anaconda3/envs/dexter/lib/python3.12/site-packages/stack_data/utils.py\", line 145, in cached_property_wrapper\n",
      "    value = obj.__dict__[self.func.__name__] = self.func(obj)\n",
      "                                               ^^^^^^^^^^^^^^\n",
      "  File \"/opt/anaconda3/envs/dexter/lib/python3.12/site-packages/stack_data/core.py\", line 649, in included_pieces\n",
      "    pos = scope_pieces.index(self.executing_piece)\n",
      "                             ^^^^^^^^^^^^^^^^^^^^\n",
      "  File \"/opt/anaconda3/envs/dexter/lib/python3.12/site-packages/stack_data/utils.py\", line 145, in cached_property_wrapper\n",
      "    value = obj.__dict__[self.func.__name__] = self.func(obj)\n",
      "                                               ^^^^^^^^^^^^^^\n",
      "  File \"/opt/anaconda3/envs/dexter/lib/python3.12/site-packages/stack_data/core.py\", line 628, in executing_piece\n",
      "    return only(\n",
      "           ^^^^^\n",
      "  File \"/opt/anaconda3/envs/dexter/lib/python3.12/site-packages/executing/executing.py\", line 164, in only\n",
      "    raise NotOneValueFound('Expected one value, found 0')\n",
      "executing.executing.NotOneValueFound: Expected one value, found 0\n"
     ]
    }
   ],
   "source": [
    "a = RV(Normal(0, 1))\n",
    "a.realize()"
   ]
  },
  {
   "cell_type": "code",
   "execution_count": 57,
   "metadata": {},
   "outputs": [
    {
     "name": "stdout",
     "output_type": "stream",
     "text": [
      "Unexpected exception formatting exception. Falling back to standard exception\n"
     ]
    },
    {
     "name": "stderr",
     "output_type": "stream",
     "text": [
      "Traceback (most recent call last):\n",
      "  File \"/opt/anaconda3/envs/dexter/lib/python3.12/site-packages/IPython/core/interactiveshell.py\", line 3553, in run_code\n",
      "    exec(code_obj, self.user_global_ns, self.user_ns)\n",
      "  File \"/var/folders/28/kdd3c0m500l1pjc158c5hgww0000gn/T/ipykernel_3772/1747391732.py\", line 1, in <module>\n",
      "    print(s1.observe())\n",
      "          ^^^^^^^^^^^^\n",
      "  File \"/var/folders/28/kdd3c0m500l1pjc158c5hgww0000gn/T/ipykernel_3772/4215420137.py\", line 9, in observe\n",
      "    return np.array([rv.realize() for rv in self.rvs])\n",
      "                     ^^^^^^^^^^^^\n",
      "  File \"/Users/deniz/Desktop/Programming/Packages/dexter/Stat/RV.py\", line 8, in realize\n",
      "    return self.distribution.dist.rvs()\n",
      "           ^^^^^^^^^^\n",
      "AttributeError: 'RV' object has no attribute 'distr'\n",
      "\n",
      "During handling of the above exception, another exception occurred:\n",
      "\n",
      "Traceback (most recent call last):\n",
      "  File \"/opt/anaconda3/envs/dexter/lib/python3.12/site-packages/IPython/core/interactiveshell.py\", line 2144, in showtraceback\n",
      "    stb = self.InteractiveTB.structured_traceback(\n",
      "          ^^^^^^^^^^^^^^^^^^^^^^^^^^^^^^^^^^^^^^^^\n",
      "  File \"/opt/anaconda3/envs/dexter/lib/python3.12/site-packages/IPython/core/ultratb.py\", line 1435, in structured_traceback\n",
      "    return FormattedTB.structured_traceback(\n",
      "           ^^^^^^^^^^^^^^^^^^^^^^^^^^^^^^^^^\n",
      "  File \"/opt/anaconda3/envs/dexter/lib/python3.12/site-packages/IPython/core/ultratb.py\", line 1326, in structured_traceback\n",
      "    return VerboseTB.structured_traceback(\n",
      "           ^^^^^^^^^^^^^^^^^^^^^^^^^^^^^^^\n",
      "  File \"/opt/anaconda3/envs/dexter/lib/python3.12/site-packages/IPython/core/ultratb.py\", line 1173, in structured_traceback\n",
      "    formatted_exception = self.format_exception_as_a_whole(etype, evalue, etb, number_of_lines_of_context,\n",
      "                          ^^^^^^^^^^^^^^^^^^^^^^^^^^^^^^^^^^^^^^^^^^^^^^^^^^^^^^^^^^^^^^^^^^^^^^^^^^^^^^^^\n",
      "  File \"/opt/anaconda3/envs/dexter/lib/python3.12/site-packages/IPython/core/ultratb.py\", line 1088, in format_exception_as_a_whole\n",
      "    frames.append(self.format_record(record))\n",
      "                  ^^^^^^^^^^^^^^^^^^^^^^^^^^\n",
      "  File \"/opt/anaconda3/envs/dexter/lib/python3.12/site-packages/IPython/core/ultratb.py\", line 970, in format_record\n",
      "    frame_info.lines, Colors, self.has_colors, lvals\n",
      "    ^^^^^^^^^^^^^^^^\n",
      "  File \"/opt/anaconda3/envs/dexter/lib/python3.12/site-packages/IPython/core/ultratb.py\", line 792, in lines\n",
      "    return self._sd.lines\n",
      "           ^^^^^^^^^^^^^^\n",
      "  File \"/opt/anaconda3/envs/dexter/lib/python3.12/site-packages/stack_data/utils.py\", line 145, in cached_property_wrapper\n",
      "    value = obj.__dict__[self.func.__name__] = self.func(obj)\n",
      "                                               ^^^^^^^^^^^^^^\n",
      "  File \"/opt/anaconda3/envs/dexter/lib/python3.12/site-packages/stack_data/core.py\", line 698, in lines\n",
      "    pieces = self.included_pieces\n",
      "             ^^^^^^^^^^^^^^^^^^^^\n",
      "  File \"/opt/anaconda3/envs/dexter/lib/python3.12/site-packages/stack_data/utils.py\", line 145, in cached_property_wrapper\n",
      "    value = obj.__dict__[self.func.__name__] = self.func(obj)\n",
      "                                               ^^^^^^^^^^^^^^\n",
      "  File \"/opt/anaconda3/envs/dexter/lib/python3.12/site-packages/stack_data/core.py\", line 649, in included_pieces\n",
      "    pos = scope_pieces.index(self.executing_piece)\n",
      "                             ^^^^^^^^^^^^^^^^^^^^\n",
      "  File \"/opt/anaconda3/envs/dexter/lib/python3.12/site-packages/stack_data/utils.py\", line 145, in cached_property_wrapper\n",
      "    value = obj.__dict__[self.func.__name__] = self.func(obj)\n",
      "                                               ^^^^^^^^^^^^^^\n",
      "  File \"/opt/anaconda3/envs/dexter/lib/python3.12/site-packages/stack_data/core.py\", line 628, in executing_piece\n",
      "    return only(\n",
      "           ^^^^^\n",
      "  File \"/opt/anaconda3/envs/dexter/lib/python3.12/site-packages/executing/executing.py\", line 164, in only\n",
      "    raise NotOneValueFound('Expected one value, found 0')\n",
      "executing.executing.NotOneValueFound: Expected one value, found 0\n"
     ]
    }
   ],
   "source": [
    "print(s1.observe())"
   ]
  },
  {
   "cell_type": "code",
   "execution_count": null,
   "metadata": {},
   "outputs": [],
   "source": []
  }
 ],
 "metadata": {
  "kernelspec": {
   "display_name": "dexter",
   "language": "python",
   "name": "python3"
  },
  "language_info": {
   "codemirror_mode": {
    "name": "ipython",
    "version": 3
   },
   "file_extension": ".py",
   "mimetype": "text/x-python",
   "name": "python",
   "nbconvert_exporter": "python",
   "pygments_lexer": "ipython3",
   "version": "3.12.2"
  }
 },
 "nbformat": 4,
 "nbformat_minor": 2
}
